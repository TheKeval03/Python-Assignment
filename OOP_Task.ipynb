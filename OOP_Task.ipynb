{
 "cells": [
  {
   "cell_type": "code",
   "execution_count": 2,
   "id": "f3d4733a-f12e-4e98-bd81-dff75277e296",
   "metadata": {},
   "outputs": [],
   "source": [
    "# OOP Task"
   ]
  },
  {
   "cell_type": "code",
   "execution_count": 3,
   "id": "6f4d3c3a-7c9d-439f-bd0c-68985d1a2175",
   "metadata": {},
   "outputs": [
    {
     "name": "stdout",
     "output_type": "stream",
     "text": [
      "Car: Max Speed - 200, Average Speed - 80\n",
      "Bike: Max Speed - 150, Average Speed - 60\n"
     ]
    }
   ],
   "source": [
    "# Question :- 1\n",
    "\n",
    "class Vehicle:\n",
    "    def __init__(self, name_of_vehicle, max_speed, average_speed):\n",
    "        self.name_of_vehicle = name_of_vehicle\n",
    "        self.max_speed = max_speed\n",
    "        self.average_speed = average_speed\n",
    "\n",
    "# Creating instances of the Vehicle class\n",
    "car = Vehicle(\"Car\", 200, 80)\n",
    "bike = Vehicle(\"Bike\", 150, 60)\n",
    "\n",
    "# Accessing the attributes of the instances\n",
    "print(f\"{car.name_of_vehicle}: Max Speed - {car.max_speed}, Average Speed - {car.average_speed}\")\n",
    "print(f\"{bike.name_of_vehicle}: Max Speed - {bike.max_speed}, Average Speed - {bike.average_speed}\")\n",
    "\n"
   ]
  },
  {
   "cell_type": "code",
   "execution_count": 4,
   "id": "d45b73c9-4774-4762-88b3-e061d100f5b4",
   "metadata": {},
   "outputs": [
    {
     "name": "stdout",
     "output_type": "stream",
     "text": [
      "Car has a seating capacity of 5 people.\n"
     ]
    }
   ],
   "source": [
    "# Question :- 2\n",
    "\n",
    "class Vehicle:\n",
    "    def __init__(self, name_of_vehicle, max_speed, average_speed):\n",
    "        self.name_of_vehicle = name_of_vehicle\n",
    "        self.max_speed = max_speed\n",
    "        self.average_speed = average_speed\n",
    "\n",
    "class Car(Vehicle):\n",
    "    def seating_capacity(self, capacity):\n",
    "        return f\"{self.name_of_vehicle} has a seating capacity of {capacity} people.\"\n",
    "\n",
    "# Creating an instance of the Car class\n",
    "car = Car(\"Car\", 200, 80)\n",
    "\n",
    "# Using the method from the Car class\n",
    "capacity_info = car.seating_capacity(5)\n",
    "print(capacity_info)\n"
   ]
  },
  {
   "cell_type": "code",
   "execution_count": 8,
   "id": "eac1d01e-99b6-4fb6-a639-e6028e74ba83",
   "metadata": {},
   "outputs": [
    {
     "name": "stdout",
     "output_type": "stream",
     "text": [
      "Alex is singing\n",
      "Alex is playing the guitar\n"
     ]
    }
   ],
   "source": [
    "# Question :- 3\n",
    "\n",
    "\"\"\"Multiple inheritance is a feature in object-oriented programming where a class can inherit attributes and methods from multiple parent classes. \n",
    "This allows a child class to combine functionalities from multiple sources. \n",
    "However, multiple inheritance can lead to complexities, such as the diamond problem, where ambiguities can arise if two parent classes share the same method name.\"\"\"\n",
    "\n",
    "class Musician:\n",
    "    def __init__(self, name):\n",
    "        self.name = name\n",
    "\n",
    "    def play_instrument(self):\n",
    "        pass\n",
    "\n",
    "class Singer(Musician):\n",
    "    def sing(self):\n",
    "        print(f\"{self.name} is singing\")\n",
    "\n",
    "class Guitarist(Musician):\n",
    "    def play_instrument(self):\n",
    "        print(f\"{self.name} is playing the guitar\")\n",
    "\n",
    "class MultiTalented(Singer, Guitarist):\n",
    "    def __init__(self, name):\n",
    "        super().__init__(name)\n",
    "\n",
    "# Creating an instance of MultiTalented\n",
    "multi_talented = MultiTalented(\"Alex\")\n",
    "\n",
    "# Accessing methods from multiple parent classes\n",
    "multi_talented.sing()\n",
    "multi_talented.play_instrument()\n"
   ]
  },
  {
   "cell_type": "code",
   "execution_count": 10,
   "id": "11a51916-c57c-4901-b70d-7cb4cb5669d8",
   "metadata": {},
   "outputs": [
    {
     "name": "stdout",
     "output_type": "stream",
     "text": [
      "Name: Alice\n",
      "Age: 20\n",
      "Updated Name: Bob\n",
      "Updated Age: 25\n"
     ]
    }
   ],
   "source": [
    "# Question :- 4\n",
    "\n",
    "\"\"\"Getter Method: \n",
    "A getter method is used to retrieve the value of a private attribute. It allows external code to access the value of the attribute without directly accessing it.\n",
    "\n",
    "Setter Method: \n",
    "A setter method is used to modify the value of a private attribute. It allows external code to set a new value for the attribute, often with some validation or conditions.\"\"\"\n",
    "\n",
    "class Student:\n",
    "    def __init__(self, name, age):\n",
    "        self._name = name\n",
    "        self._age = age\n",
    "    \n",
    "    # Getter method for name\n",
    "    def get_name(self):\n",
    "        return self._name\n",
    "    \n",
    "    # Setter method for name\n",
    "    def set_name(self, new_name):\n",
    "        if new_name:\n",
    "            self._name = new_name\n",
    "        else:\n",
    "            print(\"Name cannot be empty\")\n",
    "    \n",
    "    # Getter method for age\n",
    "    def get_age(self):\n",
    "        return self._age\n",
    "    \n",
    "    # Setter method for age\n",
    "    def set_age(self, new_age):\n",
    "        if new_age >= 0:\n",
    "            self._age = new_age\n",
    "        else:\n",
    "            print(\"Age cannot be negative\")\n",
    "\n",
    "# Creating an instance of the Student class\n",
    "student = Student(\"Alice\", 20)\n",
    "\n",
    "# Using getter methods\n",
    "print(\"Name:\", student.get_name())\n",
    "print(\"Age:\", student.get_age())\n",
    "\n",
    "# Using setter methods\n",
    "student.set_name(\"Bob\")\n",
    "student.set_age(25)\n",
    "\n",
    "# Using getter methods again\n",
    "print(\"Updated Name:\", student.get_name())\n",
    "print(\"Updated Age:\", student.get_age())\n"
   ]
  },
  {
   "cell_type": "code",
   "execution_count": 11,
   "id": "5e31f6fc-8d44-4354-b03e-8ade84738654",
   "metadata": {},
   "outputs": [
    {
     "name": "stdout",
     "output_type": "stream",
     "text": [
      "Animal speaks\n",
      "Dog barks\n",
      "Cat meows\n"
     ]
    }
   ],
   "source": [
    "# Question :- 5\n",
    "\n",
    "\"\"\"Method overriding is a feature in object-oriented programming where a subclass provides a specific implementation for a method that is already defined in its parent class. \n",
    "The overridden method in the subclass has the same name and parameters as the method in the parent class, but it provides a different implementation to suit the subclass's specific needs.\"\"\"\n",
    "\n",
    "class Animal:\n",
    "    def speak(self):\n",
    "        print(\"Animal speaks\")\n",
    "\n",
    "class Dog(Animal):\n",
    "    def speak(self):\n",
    "        print(\"Dog barks\")\n",
    "\n",
    "class Cat(Animal):\n",
    "    def speak(self):\n",
    "        print(\"Cat meows\")\n",
    "\n",
    "# Creating instances of the subclasses\n",
    "animal = Animal()\n",
    "dog = Dog()\n",
    "cat = Cat()\n",
    "\n",
    "# Calling the overridden speak method\n",
    "animal.speak()  # Output: Animal speaks\n",
    "dog.speak()     # Output: Dog barks\n",
    "cat.speak()     # Output: Cat meows\n"
   ]
  },
  {
   "cell_type": "code",
   "execution_count": null,
   "id": "6c459996-0515-42da-948e-b963a97e0f11",
   "metadata": {},
   "outputs": [],
   "source": []
  }
 ],
 "metadata": {
  "kernelspec": {
   "display_name": "Python 3 (ipykernel)",
   "language": "python",
   "name": "python3"
  },
  "language_info": {
   "codemirror_mode": {
    "name": "ipython",
    "version": 3
   },
   "file_extension": ".py",
   "mimetype": "text/x-python",
   "name": "python",
   "nbconvert_exporter": "python",
   "pygments_lexer": "ipython3",
   "version": "3.10.8"
  }
 },
 "nbformat": 4,
 "nbformat_minor": 5
}
