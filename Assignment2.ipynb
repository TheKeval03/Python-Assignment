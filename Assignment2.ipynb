{
 "cells": [
  {
   "cell_type": "code",
   "execution_count": 6,
   "id": "e8af6163-dd97-46ed-af62-471dbab29d92",
   "metadata": {},
   "outputs": [
    {
     "name": "stdout",
     "output_type": "stream",
     "text": [
      "1\n",
      "3\n",
      "5\n",
      "7\n",
      "9\n",
      "11\n",
      "13\n",
      "15\n",
      "17\n",
      "19\n",
      "21\n",
      "23\n",
      "25\n"
     ]
    }
   ],
   "source": [
    "# Question - 1\n",
    "\n",
    "# def Keyword Use in Python For Creating Function\n",
    "\n",
    "def odd():\n",
    "    for i in range(0,26):\n",
    "        if i%2 != 0:\n",
    "            print(i)\n",
    "odd()           "
   ]
  },
  {
   "cell_type": "code",
   "execution_count": 9,
   "id": "450417c9-2c25-4381-986d-04072226cb4f",
   "metadata": {},
   "outputs": [
    {
     "name": "stdout",
     "output_type": "stream",
     "text": [
      "(1, 3, 3, 4, 4, 54, 5, 5)\n"
     ]
    }
   ],
   "source": [
    "# Question - 2\n",
    "\n",
    "# We can use *args and **kwargs as arguments of a function when you are unsure about the number of arguments to pass in the functions\n",
    "\n",
    "def Func(*args):\n",
    "    print(args)\n",
    "\n",
    "Func(1,3,3,4,4,54,5,5)    \n"
   ]
  },
  {
   "cell_type": "code",
   "execution_count": 15,
   "id": "1ac66c14-4956-4e81-8efe-5d1183a4d494",
   "metadata": {},
   "outputs": [
    {
     "name": "stdout",
     "output_type": "stream",
     "text": [
      "first == Sanghani\n",
      "mid == Keval\n",
      "last == Hiteshbhai\n"
     ]
    }
   ],
   "source": [
    "# **Kwargs\n",
    "\n",
    "def myFun(**kwargs):\n",
    "    for key, value in kwargs.items():\n",
    "        print(\"%s == %s\" % (key, value))\n",
    "  \n",
    "  \n",
    "# Driver code\n",
    "myFun(first='Sanghani', mid='Keval', last='Hiteshbhai')"
   ]
  },
  {
   "cell_type": "code",
   "execution_count": 20,
   "id": "b492f799-9112-4c39-b4b3-1a9963547195",
   "metadata": {},
   "outputs": [
    {
     "name": "stdout",
     "output_type": "stream",
     "text": [
      "2\n",
      "4\n",
      "6\n",
      "8\n",
      "10\n"
     ]
    }
   ],
   "source": [
    "# Question - 3\n",
    "\n",
    "\"\"\" An iterator is an object that contains a countable number of values.\n",
    "An iterator is an object that can be iterated upon, meaning that you can traverse through all the values\"\"\"\n",
    "\n",
    "# Iter() method is used to initialize the iterator object so that the instance of this object can be used for iterating.\n",
    "\n",
    "l1 = [2,4,6,8,10,12,14,16,18,20]\n",
    "iter1 = iter(l1)\n",
    "\n",
    "for i in range(5):\n",
    "    print(next(iter1))"
   ]
  },
  {
   "cell_type": "code",
   "execution_count": 23,
   "id": "ed4b0bd2-3c39-4b2f-adb0-7e027143a1d7",
   "metadata": {},
   "outputs": [
    {
     "data": {
      "text/plain": [
       "[10, 9, 8, 7, 6, 5, 4, 3, 2, 1]"
      ]
     },
     "execution_count": 23,
     "metadata": {},
     "output_type": "execute_result"
    }
   ],
   "source": [
    "# Question - 4\n",
    "\n",
    "\"\"\" a generator function is a special type of function that returns an iterator. \"\"\"\n",
    "\"\"\"generator functions use the yield keyword to return a value and suspend \n",
    "the execution of the function until the next value is requested.\"\"\"\n",
    "\n",
    "def countdown(n):\n",
    "    while n > 0:\n",
    "        yield n\n",
    "        n -= 1\n",
    "list(countdown(10))        "
   ]
  },
  {
   "cell_type": "code",
   "execution_count": 24,
   "id": "07fd4dcd-2dae-4e33-ab62-f5779d1f256f",
   "metadata": {},
   "outputs": [
    {
     "name": "stdout",
     "output_type": "stream",
     "text": [
      "2\n",
      "3\n",
      "5\n",
      "7\n",
      "11\n",
      "13\n",
      "17\n",
      "19\n",
      "23\n",
      "29\n",
      "31\n",
      "37\n",
      "41\n",
      "43\n",
      "47\n",
      "53\n",
      "59\n",
      "61\n",
      "67\n",
      "71\n"
     ]
    }
   ],
   "source": [
    "# Question - 5\n",
    "\n",
    "def prime_numbers():\n",
    "    num = 2\n",
    "    while True:\n",
    "        for i in range(2, num):\n",
    "            if num % i == 0:\n",
    "                break\n",
    "        else:\n",
    "            yield num\n",
    "        num += 1\n",
    "        if num >= 1000:\n",
    "            break\n",
    "\n",
    "prime_generator = prime_numbers()\n",
    "\n",
    "for i in range(20):\n",
    "    print(next(prime_generator))\n",
    "    "
   ]
  },
  {
   "cell_type": "code",
   "execution_count": 25,
   "id": "25ee89f0-ec2e-4ec0-9f36-c7e358a5e269",
   "metadata": {},
   "outputs": [
    {
     "name": "stdout",
     "output_type": "stream",
     "text": [
      "0\n",
      "1\n",
      "1\n",
      "2\n",
      "3\n",
      "5\n",
      "8\n",
      "13\n",
      "21\n",
      "34\n"
     ]
    }
   ],
   "source": [
    "# Question - 6\n",
    "\n",
    "a = 0\n",
    "b = 1\n",
    "count = 0\n",
    "\n",
    "while count < 10:\n",
    "    print(a)\n",
    "    c = a + b\n",
    "    a = b\n",
    "    b = c\n",
    "    count += 1\n"
   ]
  },
  {
   "cell_type": "code",
   "execution_count": 31,
   "id": "73707cfd-5328-460f-900c-a3a5dfa05bf8",
   "metadata": {},
   "outputs": [
    {
     "data": {
      "text/plain": [
       "['p', 'w', 's', 'k', 'i', 'l', 'l']"
      ]
     },
     "execution_count": 31,
     "metadata": {},
     "output_type": "execute_result"
    }
   ],
   "source": [
    "# Question - 7\n",
    "\n",
    "s = \"pwskill\"\n",
    "[i for i in s]"
   ]
  },
  {
   "cell_type": "code",
   "execution_count": 32,
   "id": "b56ddf0a-c876-4f7c-abf3-db6a3df63257",
   "metadata": {},
   "outputs": [
    {
     "name": "stdin",
     "output_type": "stream",
     "text": [
      "Enter a number:  156\n"
     ]
    },
    {
     "name": "stdout",
     "output_type": "stream",
     "text": [
      "156 is not a palindrome number\n"
     ]
    }
   ],
   "source": [
    "# Question - 8\n",
    "\n",
    "num = int(input(\"Enter a number: \"))\n",
    "temp = num\n",
    "rev = 0\n",
    "\n",
    "while temp > 0:\n",
    "    rem = temp % 10\n",
    "    rev = rev * 10 + rem\n",
    "    temp = temp // 10\n",
    "\n",
    "if num == rev:\n",
    "    print(num, \"is a palindrome number\")\n",
    "else:\n",
    "    print(num, \"is not a palindrome number\")\n"
   ]
  },
  {
   "cell_type": "code",
   "execution_count": 38,
   "id": "27a4984f-662c-448b-bf08-eeefdbb9e834",
   "metadata": {},
   "outputs": [
    {
     "name": "stdout",
     "output_type": "stream",
     "text": [
      "[2, 4, 6, 8, 10, 12, 14, 16, 18, 20, 22, 24, 26, 28, 30, 32, 34, 36, 38, 40, 42, 44, 46, 48, 50, 52, 54, 56, 58, 60, 62, 64, 66, 68, 70, 72, 74, 76, 78, 80, 82, 84, 86, 88, 90, 92, 94, 96, 98, 100]\n"
     ]
    }
   ],
   "source": [
    "# Question - 9\n",
    "\n",
    "a = [i for i in range(1,101) if i % 2 == 0]\n",
    "print(a)"
   ]
  },
  {
   "cell_type": "code",
   "execution_count": null,
   "id": "4deecfc8-4ac5-4b86-a697-3b317025ca38",
   "metadata": {},
   "outputs": [],
   "source": []
  }
 ],
 "metadata": {
  "kernelspec": {
   "display_name": "Python 3 (ipykernel)",
   "language": "python",
   "name": "python3"
  },
  "language_info": {
   "codemirror_mode": {
    "name": "ipython",
    "version": 3
   },
   "file_extension": ".py",
   "mimetype": "text/x-python",
   "name": "python",
   "nbconvert_exporter": "python",
   "pygments_lexer": "ipython3",
   "version": "3.10.8"
  }
 },
 "nbformat": 4,
 "nbformat_minor": 5
}
