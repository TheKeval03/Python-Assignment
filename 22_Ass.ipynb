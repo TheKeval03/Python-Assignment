{
 "cells": [
  {
   "cell_type": "code",
   "execution_count": 1,
   "id": "d404c81f-6059-494a-b60a-638f7141d975",
   "metadata": {},
   "outputs": [],
   "source": [
    "# 22_Feb Assignment "
   ]
  },
  {
   "cell_type": "code",
   "execution_count": 3,
   "id": "774e66e4-5866-4e18-9080-582c001ae1d6",
   "metadata": {},
   "outputs": [
    {
     "name": "stdout",
     "output_type": "stream",
     "text": [
      "0     4\n",
      "1     8\n",
      "2    15\n",
      "3    16\n",
      "4    23\n",
      "5    42\n",
      "dtype: int64\n"
     ]
    }
   ],
   "source": [
    "# Question :- 1\n",
    "\n",
    "import pandas as pd\n",
    "\n",
    "data = [4, 8, 15, 16, 23, 42]\n",
    "series = pd.Series(data)\n",
    "\n",
    "print(series)"
   ]
  },
  {
   "cell_type": "code",
   "execution_count": 4,
   "id": "dfc14dff-9414-4a94-b11f-a0547cd999a1",
   "metadata": {},
   "outputs": [
    {
     "name": "stdout",
     "output_type": "stream",
     "text": [
      "0     10\n",
      "1     20\n",
      "2     30\n",
      "3     40\n",
      "4     50\n",
      "5     60\n",
      "6     70\n",
      "7     80\n",
      "8     90\n",
      "9    100\n",
      "dtype: int64\n"
     ]
    }
   ],
   "source": [
    "# Question :- 2\n",
    "\n",
    "import pandas as pd\n",
    "\n",
    "my_list = [10, 20, 30, 40, 50, 60, 70, 80, 90, 100]\n",
    "series = pd.Series(my_list)\n",
    "\n",
    "print(series)\n"
   ]
  },
  {
   "cell_type": "code",
   "execution_count": 6,
   "id": "368d81d6-f241-493c-97f3-7d5ca3cbb85e",
   "metadata": {},
   "outputs": [
    {
     "name": "stdout",
     "output_type": "stream",
     "text": [
      "     Name  Age  Gender\n",
      "0   Alice   25  Female\n",
      "1     Bob   30    Male\n",
      "2  Claire   27  Female\n"
     ]
    }
   ],
   "source": [
    "# Question :- 3\n",
    "\n",
    "import pandas as pd\n",
    "\n",
    "data = {\n",
    "    'Name': ['Alice', 'Bob', 'Claire'],\n",
    "    'Age': [25, 30, 27],\n",
    "    'Gender': ['Female', 'Male', 'Female']\n",
    "}\n",
    "\n",
    "df = pd.DataFrame(data)\n",
    "print(df)"
   ]
  },
  {
   "cell_type": "code",
   "execution_count": 7,
   "id": "e6a765d9-a52c-4328-b037-32cb1e53df0d",
   "metadata": {},
   "outputs": [
    {
     "name": "stdout",
     "output_type": "stream",
     "text": [
      "DataFrame:\n",
      "     Name  Age  Gender\n",
      "0   Alice   25  Female\n",
      "1     Bob   30    Male\n",
      "2  Claire   27  Female\n",
      "\n",
      "Series:\n",
      "0    25\n",
      "1    30\n",
      "2    27\n",
      "Name: Age, dtype: int64\n"
     ]
    }
   ],
   "source": [
    "# Question :- 4\n",
    "\n",
    "\"\"\"A DataFrame in pandas is a two-dimensional, size-mutable, and heterogeneous tabular data structure. It's similar to a spreadsheet or SQL table, and it consists of rows and columns. Each column in a DataFrame can hold data of a different data type. \n",
    "DataFrames are one of the core data structures provided by the pandas library, and they allow you to work with structured and labeled data efficiently.\"\"\"\n",
    "\n",
    "import pandas as pd\n",
    "\n",
    "# Creating a DataFrame\n",
    "data = {\n",
    "    'Name': ['Alice', 'Bob', 'Claire'],\n",
    "    'Age': [25, 30, 27],\n",
    "    'Gender': ['Female', 'Male', 'Female']\n",
    "}\n",
    "df = pd.DataFrame(data)\n",
    "\n",
    "# Creating a Series\n",
    "ages = pd.Series([25, 30, 27], name='Age')\n",
    "\n",
    "print(\"DataFrame:\")\n",
    "print(df)\n",
    "print(\"\\nSeries:\")\n",
    "print(ages)\n"
   ]
  },
  {
   "cell_type": "code",
   "execution_count": 8,
   "id": "fb08a7f4-d444-44ae-8ebb-dbec9835ba27",
   "metadata": {},
   "outputs": [
    {
     "name": "stdout",
     "output_type": "stream",
     "text": [
      "    Name  Age  Gender\n",
      "0  Alice   25  Female\n",
      "1    Bob   30    Male\n",
      "     Name  Age  Gender\n",
      "2  Claire   27  Female\n"
     ]
    }
   ],
   "source": [
    "# Question :- 5\n",
    "\n",
    "# 1.head() and tail(): These functions allow you to view the first few or last few rows of a DataFrame, respectively.\n",
    "\n",
    "# 2.shape: This attribute returns the dimensions (rows, columns) of the DataFrame.\n",
    "\n",
    "# 3.describe(): Provides summary statistics of the numerical columns in the DataFrame.\n",
    "\n",
    "import pandas as pd\n",
    "\n",
    "data = {'Name': ['Alice', 'Bob', 'Claire'],\n",
    "        'Age': [25, 30, 27],\n",
    "        'Gender': ['Female', 'Male', 'Female']}\n",
    "df = pd.DataFrame(data)\n",
    "\n",
    "print(df.head(2))  # Display the first 2 rows\n",
    "print(df.tail(1))  # Display the last 1 row\n"
   ]
  },
  {
   "cell_type": "code",
   "execution_count": 9,
   "id": "7fdec94a-e2a4-4b8d-a885-7203bbdd222b",
   "metadata": {},
   "outputs": [],
   "source": [
    "# Question :- 6\n",
    "\n",
    "# Among the options provided, the DataFrame is mutable in nature.\n",
    "\n",
    "# A mutable object is one that can be modified after it is created. In the context of Pandas, a mutable data structure allows you to change its values, add or remove rows or columns, and perform various modifications without creating an entirely new instance.\n",
    "\n",
    "# Both Series and DataFrames are two of the core data structures in Pandas. However, while a Series is one-dimensional and behaves like an array or list, a DataFrame is two-dimensional and resembles a table or spreadsheet. DataFrames are designed to hold multiple Series-like structures, and they provide more flexibility and versatility when it comes to data manipulation."
   ]
  },
  {
   "cell_type": "code",
   "execution_count": 10,
   "id": "072be615-6788-4ad3-a29f-9f32ccab62a1",
   "metadata": {},
   "outputs": [
    {
     "name": "stdout",
     "output_type": "stream",
     "text": [
      "     Name  Age  Gender\n",
      "0   Alice   25  Female\n",
      "1     Bob   30    Male\n",
      "2  Claire   27  Female\n"
     ]
    }
   ],
   "source": [
    "# Question :_ 7\n",
    "\n",
    "# In Pandas, you can create a DataFrame by combining multiple Series. Each Series will correspond to a column in the DataFrame. Here's an example:\n",
    "\n",
    "import pandas as pd\n",
    "\n",
    "# Creating Series for different columns\n",
    "names = pd.Series(['Alice', 'Bob', 'Claire'])\n",
    "ages = pd.Series([25, 30, 27])\n",
    "genders = pd.Series(['Female', 'Male', 'Female'])\n",
    "\n",
    "# Combining Series to create a DataFrame\n",
    "data = {'Name': names, 'Age': ages, 'Gender': genders}\n",
    "df = pd.DataFrame(data)\n",
    "\n",
    "print(df)\n"
   ]
  },
  {
   "cell_type": "code",
   "execution_count": null,
   "id": "2fb05f8a-ef45-43d9-9ce1-238d6b37d850",
   "metadata": {},
   "outputs": [],
   "source": []
  }
 ],
 "metadata": {
  "kernelspec": {
   "display_name": "Python 3 (ipykernel)",
   "language": "python",
   "name": "python3"
  },
  "language_info": {
   "codemirror_mode": {
    "name": "ipython",
    "version": 3
   },
   "file_extension": ".py",
   "mimetype": "text/x-python",
   "name": "python",
   "nbconvert_exporter": "python",
   "pygments_lexer": "ipython3",
   "version": "3.10.8"
  }
 },
 "nbformat": 4,
 "nbformat_minor": 5
}
