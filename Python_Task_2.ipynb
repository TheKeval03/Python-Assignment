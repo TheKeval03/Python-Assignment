{
 "cells": [
  {
   "cell_type": "code",
   "execution_count": 1,
   "id": "7c351185-77b3-4902-b103-a5cf2a80910f",
   "metadata": {},
   "outputs": [],
   "source": [
    "# Python Task 2"
   ]
  },
  {
   "cell_type": "code",
   "execution_count": 2,
   "id": "f88eedd5-9679-4e3f-9955-24772dd25ecb",
   "metadata": {},
   "outputs": [
    {
     "name": "stdout",
     "output_type": "stream",
     "text": [
      "Invalid Password\n",
      "Invalid Password\n",
      "Invalid Password\n"
     ]
    }
   ],
   "source": [
    "# Question :- 1\n",
    "\n",
    "import re\n",
    "\n",
    "def check_password(password):\n",
    "    # Check password length\n",
    "    if len(password) != 10:\n",
    "        return \"Invalid Password\"\n",
    "\n",
    "    # Count uppercase and lowercase letters\n",
    "    uppercase_count = sum(1 for char in password if char.isupper())\n",
    "    lowercase_count = sum(1 for char in password if char.islower())\n",
    "\n",
    "    # Count numbers and special characters using regular expressions\n",
    "    digit_count = len(re.findall(r'\\d', password))\n",
    "    special_count = len(re.findall(r'[!@#$%^&*()-_+=]', password))\n",
    "\n",
    "    # Check all conditions\n",
    "    if uppercase_count >= 2 and lowercase_count >= 2 and digit_count >= 1 and special_count >= 3:\n",
    "        return \"Valid Password\"\n",
    "    else:\n",
    "        return \"Invalid Password\"\n",
    "\n",
    "# Test cases\n",
    "password1 = \"Abc123!@#\"\n",
    "password2 = \"aBc1234567\"\n",
    "password3 = \"Abcdefg!@#\"\n",
    "\n",
    "print(check_password(password1))\n",
    "print(check_password(password2))\n",
    "print(check_password(password3))\n"
   ]
  },
  {
   "cell_type": "code",
   "execution_count": 3,
   "id": "89ddbfb0-f672-45fc-9c78-60870f96653e",
   "metadata": {},
   "outputs": [
    {
     "name": "stdout",
     "output_type": "stream",
     "text": [
      "True\n",
      "True\n",
      "[('orange', 80), ('mango', 99), ('grapes', 1000)]\n",
      "[1, 4, 9, 16, 25, 36, 49, 64, 81, 100]\n",
      "[1.0, 1.2599210498948732, 1.4422495703074083, 1.5874010519681994, 1.7099759466766968, 1.8171205928321397, 1.912931182772389, 2.0, 2.080083823051904, 2.154434690031884]\n",
      "True\n",
      "[1, 3, 5, 7, 9]\n",
      "[1, 2, 3, 4, 5, 6]\n",
      "[-1, -2, -3, -4, -5]\n"
     ]
    }
   ],
   "source": [
    "# Question :- 2\n",
    "\n",
    "\n",
    "# 1.\n",
    "\n",
    "starts_with_letter = lambda string, letter: string.startswith(letter)\n",
    "print(starts_with_letter(\"apple\", \"a\"))\n",
    "\n",
    "# 2\n",
    "\n",
    "is_numeric = lambda string: string.isnumeric()\n",
    "print(is_numeric(\"123\"))\n",
    "\n",
    "# 3\n",
    "\n",
    "fruits = [(\"mango\", 99), (\"orange\", 80), (\"grapes\", 1000)]\n",
    "sorted_fruits = sorted(fruits, key=lambda x: x[1])\n",
    "print(sorted_fruits)\n",
    "\n",
    "# 4\n",
    "\n",
    "squares = [x ** 2 for x in range(1, 11)]\n",
    "print(squares)\n",
    "\n",
    "# 5\n",
    "\n",
    "import math\n",
    "cube_roots = [math.pow(x, 1/3) for x in range(1, 11)]\n",
    "print(cube_roots)\n",
    "\n",
    "# 6\n",
    "\n",
    "is_even = lambda num: num % 2 == 0\n",
    "print(is_even(6))\n",
    "\n",
    "# 7\n",
    "\n",
    "numbers = [1, 2, 3, 4, 5, 6, 7, 8, 9, 10]\n",
    "odd_numbers = list(filter(lambda x: x % 2 != 0, numbers))\n",
    "print(odd_numbers)\n",
    "\n",
    "# 8\n",
    "\n",
    "numbers = [1, 2, 3, 4, 5, 6, -1, -2, -3, -4, -5, 0]\n",
    "positive_numbers = [x for x in numbers if x > 0]\n",
    "negative_numbers = [x for x in numbers if x < 0]\n",
    "print(positive_numbers)\n",
    "print(negative_numbers)\n"
   ]
  },
  {
   "cell_type": "code",
   "execution_count": null,
   "id": "a6c0f9b6-8408-439f-b24e-6c8bb95c5327",
   "metadata": {},
   "outputs": [],
   "source": []
  }
 ],
 "metadata": {
  "kernelspec": {
   "display_name": "Python 3 (ipykernel)",
   "language": "python",
   "name": "python3"
  },
  "language_info": {
   "codemirror_mode": {
    "name": "ipython",
    "version": 3
   },
   "file_extension": ".py",
   "mimetype": "text/x-python",
   "name": "python",
   "nbconvert_exporter": "python",
   "pygments_lexer": "ipython3",
   "version": "3.10.8"
  }
 },
 "nbformat": 4,
 "nbformat_minor": 5
}
