{
 "cells": [
  {
   "cell_type": "code",
   "execution_count": 1,
   "id": "7c351185-77b3-4902-b103-a5cf2a80910f",
   "metadata": {},
   "outputs": [],
   "source": [
    "# Python Task 2"
   ]
  },
  {
   "cell_type": "code",
   "execution_count": 2,
   "id": "f88eedd5-9679-4e3f-9955-24772dd25ecb",
   "metadata": {},
   "outputs": [
    {
     "name": "stdout",
     "output_type": "stream",
     "text": [
      "Invalid Password\n",
      "Invalid Password\n",
      "Invalid Password\n"
     ]
    }
   ],
   "source": [
    "# Question :- 1\n",
    "\n",
    "import re\n",
    "\n",
    "def check_password(password):\n",
    "    # Check password length\n",
    "    if len(password) != 10:\n",
    "        return \"Invalid Password\"\n",
    "\n",
    "    # Count uppercase and lowercase letters\n",
    "    uppercase_count = sum(1 for char in password if char.isupper())\n",
    "    lowercase_count = sum(1 for char in password if char.islower())\n",
    "\n",
    "    # Count numbers and special characters using regular expressions\n",
    "    digit_count = len(re.findall(r'\\d', password))\n",
    "    special_count = len(re.findall(r'[!@#$%^&*()-_+=]', password))\n",
    "\n",
    "    # Check all conditions\n",
    "    if uppercase_count >= 2 and lowercase_count >= 2 and digit_count >= 1 and special_count >= 3:\n",
    "        return \"Valid Password\"\n",
    "    else:\n",
    "        return \"Invalid Password\"\n",
    "\n",
    "# Test cases\n",
    "password1 = \"Abc123!@#\"\n",
    "password2 = \"aBc1234567\"\n",
    "password3 = \"Abcdefg!@#\"\n",
    "\n",
    "print(check_password(password1))\n",
    "print(check_password(password2))\n",
    "print(check_password(password3))\n"
   ]
  },
  {
   "cell_type": "code",
   "execution_count": null,
   "id": "89ddbfb0-f672-45fc-9c78-60870f96653e",
   "metadata": {},
   "outputs": [],
   "source": [
    "# Question :- 2\n",
    "\n",
    "\n",
    "# 1.\n",
    "\n",
    "starts_with_letter = lambda string, letter: string.startswith(letter)\n",
    "print(starts_with_letter(\"apple\", \"a\"))\n",
    "\n",
    "# 2\n",
    "\n",
    "is_numeric = lambda string: string.isnumeric()\n",
    "print(is_numeric(\"123\"))\n",
    "\n",
    "3"
   ]
  }
 ],
 "metadata": {
  "kernelspec": {
   "display_name": "Python 3 (ipykernel)",
   "language": "python",
   "name": "python3"
  },
  "language_info": {
   "codemirror_mode": {
    "name": "ipython",
    "version": 3
   },
   "file_extension": ".py",
   "mimetype": "text/x-python",
   "name": "python",
   "nbconvert_exporter": "python",
   "pygments_lexer": "ipython3",
   "version": "3.10.8"
  }
 },
 "nbformat": 4,
 "nbformat_minor": 5
}
