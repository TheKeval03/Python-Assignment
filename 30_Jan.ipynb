{
 "cells": [
  {
   "cell_type": "code",
   "execution_count": 1,
   "id": "083e475f-3f87-42a8-8318-cbc5b612a7bb",
   "metadata": {},
   "outputs": [],
   "source": [
    "# 30_January Assignment"
   ]
  },
  {
   "cell_type": "code",
   "execution_count": 4,
   "id": "738a5f2a-0274-479e-a555-626186437677",
   "metadata": {},
   "outputs": [
    {
     "name": "stdin",
     "output_type": "stream",
     "text": [
      "Enter the marks:  50\n"
     ]
    },
    {
     "name": "stdout",
     "output_type": "stream",
     "text": [
      "The grade for 50.0 marks is: D\n"
     ]
    }
   ],
   "source": [
    "# Question :- 1\n",
    "\n",
    "def calculate_grade(marks):\n",
    "    if marks > 90:\n",
    "        return 'A'\n",
    "    elif marks > 80:\n",
    "        return 'B'\n",
    "    elif marks >= 60:\n",
    "        return 'C'\n",
    "    else:\n",
    "        return 'D'\n",
    "\n",
    "def main():\n",
    "    try:\n",
    "        marks = float(input(\"Enter the marks: \"))\n",
    "        if 0 <= marks <= 100:\n",
    "            grade = calculate_grade(marks)\n",
    "            print(f\"The grade for {marks} marks is: {grade}\")\n",
    "        else:\n",
    "            print(\"Invalid marks. Please enter a value between 0 and 100.\")\n",
    "    except ValueError:\n",
    "        print(\"Invalid input. Please enter a valid number.\")\n",
    "\n",
    "if __name__ == \"__main__\":\n",
    "    main()\n"
   ]
  },
  {
   "cell_type": "code",
   "execution_count": 6,
   "id": "90aef752-5410-4312-b3f7-9452b5016e9d",
   "metadata": {},
   "outputs": [
    {
     "name": "stdin",
     "output_type": "stream",
     "text": [
      "Enter The Cost Of Bike :- 75000\n"
     ]
    },
    {
     "name": "stdout",
     "output_type": "stream",
     "text": [
      "The Tax Of  75000.0$ bike Is 10% \n"
     ]
    }
   ],
   "source": [
    "# Question :- 2\n",
    "\n",
    "def Tax(cost):\n",
    "    if cost > 100000:\n",
    "        return \"15%\"\n",
    "    elif cost >50000:\n",
    "        return \"10%\"\n",
    "    else:\n",
    "        return \"5%\"\n",
    "    \n",
    "def main():\n",
    "    try:\n",
    "        cost = float(input(\"Enter The Cost Of Bike :-\"))\n",
    "        if 0 < cost <= 100000:\n",
    "            Total_Tax = Tax(cost)\n",
    "            print(f\"The Tax Of  {cost}$ bike Is {Total_Tax} \")\n",
    "    except ValueError:\n",
    "            print(\"Invalid Input\")\n",
    "            \n",
    "if __name__ == \"__main__\":\n",
    "    main()"
   ]
  },
  {
   "cell_type": "code",
   "execution_count": 7,
   "id": "ce339312-fb52-412a-b3ba-38c6eaed8e9b",
   "metadata": {},
   "outputs": [
    {
     "name": "stdin",
     "output_type": "stream",
     "text": [
      "Enter a city:  delhi\n"
     ]
    },
    {
     "name": "stdout",
     "output_type": "stream",
     "text": [
      "The famous monument in Delhi is: Red Fort\n"
     ]
    }
   ],
   "source": [
    "# Question :- 3\n",
    "\n",
    "def display_monument(city):\n",
    "    monuments = {\n",
    "        \"Delhi\": \"Red Fort\",\n",
    "        \"Agra\": \"Taj Mahal\",\n",
    "        \"Jaipur\": \"Jal Mahal\"\n",
    "    }\n",
    "    \n",
    "    if city in monuments:\n",
    "        monument = monuments[city]\n",
    "        print(f\"The famous monument in {city} is: {monument}\")\n",
    "    else:\n",
    "        print(\"Sorry, we don't have information about a famous monument for that city.\")\n",
    "\n",
    "def main():\n",
    "    try:\n",
    "        city = input(\"Enter a city: \")\n",
    "        city = city.capitalize()  # Convert the city to title case to match the dictionary keys\n",
    "        \n",
    "        display_monument(city)\n",
    "    except Exception as e:\n",
    "        print(\"An error occurred:\", e)\n",
    "\n",
    "if __name__ == \"__main__\":\n",
    "    main()\n"
   ]
  },
  {
   "cell_type": "code",
   "execution_count": 8,
   "id": "43693970-fba4-4261-9dec-52ba56c01807",
   "metadata": {},
   "outputs": [
    {
     "name": "stdin",
     "output_type": "stream",
     "text": [
      "Enter a number:  10\n"
     ]
    },
    {
     "name": "stdout",
     "output_type": "stream",
     "text": [
      "The number 10.0 can be divided by 3 0 times before it's less than or equal to 10.\n"
     ]
    }
   ],
   "source": [
    "# Question :- 4\n",
    "\n",
    "def count_divisions(number):\n",
    "    count = 0\n",
    "    while number > 10:\n",
    "        number /= 3\n",
    "        count += 1\n",
    "    return count\n",
    "\n",
    "def main():\n",
    "    try:\n",
    "        number = float(input(\"Enter a number: \"))\n",
    "        divisions = count_divisions(number)\n",
    "        print(f\"The number {number} can be divided by 3 {divisions} times before it's less than or equal to 10.\")\n",
    "    except ValueError:\n",
    "        print(\"Invalid input. Please enter a valid number.\")\n",
    "\n",
    "if __name__ == \"__main__\":\n",
    "    main()\n"
   ]
  },
  {
   "cell_type": "code",
   "execution_count": null,
   "id": "d21953be-ecba-4b62-a5b9-2c81afd999c4",
   "metadata": {},
   "outputs": [],
   "source": [
    "# Question :- 5\n",
    "\n",
    "A while loop in Python is used to repeatedly execute a block of code as long as a specified condition is evaluated as True. \n",
    "It is a fundamental control structure that allows you to create loops that continue executing until the condition becomes False.\n",
    "\n",
    "while condition:\n",
    "    # Code to be executed while the condition is True\n",
    "    \n",
    "1.Unknown Iteration Count: When you don't know beforehand how many times a loop needs to execute, a while loop is suitable. You define a condition that needs to be satisfied for the loop to continue, making it flexible for varying situations.\n",
    "\n",
    "2.Continuous Input Validation: When you need to repeatedly prompt a user for input until they provide valid data, a while loop can ensure that the program doesn't proceed until valid input is provided.\n",
    "\n",
    "3.Event-Driven Programming: In situations where you're waiting for a certain event to occur and want to continuously perform some actions until that event happens, a while loop can be used.\n",
    "\n",
    "4.Complex Exit Conditions: When the exit condition is based on multiple factors that can't be directly determined using a for loop, a while loop is more suitable.\n",
    "\n",
    "# Example\n",
    "\n",
    "secret_number = 42\n",
    "guessed = False\n",
    "\n",
    "while not guessed:\n",
    "    guess = int(input(\"Guess the secret number: \"))\n",
    "    if guess == secret_number:\n",
    "        print(\"Congratulations! You guessed the secret number.\")\n",
    "        guessed = True\n",
    "    else:\n",
    "        print(\"Try again!\")\n",
    "\n",
    "print(\"Game over.\")\n"
   ]
  },
  {
   "cell_type": "code",
   "execution_count": 17,
   "id": "e194a842-a156-418b-946f-9f244854f511",
   "metadata": {},
   "outputs": [
    {
     "name": "stdout",
     "output_type": "stream",
     "text": [
      "*\n",
      "**\n",
      "***\n",
      "****\n",
      "*****\n",
      "Pattern 1 \n",
      "\n",
      "****\n",
      "****\n",
      "****\n",
      "****\n",
      "Pattern 2 \n",
      "\n",
      "*****\n",
      "****\n",
      "***\n",
      "**\n",
      "*\n",
      "Pattern 3\n",
      "\n"
     ]
    }
   ],
   "source": [
    "# Question -: 6\n",
    "\n",
    "rows = 5\n",
    "i = 1\n",
    "\n",
    "while i <= rows:\n",
    "    j = 1\n",
    "    while j <= i:\n",
    "        print(\"*\", end=\"\")\n",
    "        j += 1\n",
    "    print()\n",
    "    i += 1\n",
    "print(\"Pattern 1 \\n\")\n",
    "    \n",
    "rows = 4\n",
    "i = 1\n",
    "\n",
    "while i <= rows:\n",
    "    j = 1\n",
    "    while j <= rows:\n",
    "        print(\"*\", end=\"\")\n",
    "        j += 1\n",
    "    print()\n",
    "    i += 1\n",
    "print(\"Pattern 2 \\n\")   \n",
    "\n",
    "    \n",
    "rows = 5\n",
    "i = rows\n",
    "\n",
    "while i >= 1:\n",
    "    j = 1\n",
    "    while j <= i:\n",
    "        print(\"*\", end=\"\")\n",
    "        j += 1\n",
    "    print()\n",
    "    i -= 1\n",
    "print(\"Pattern 3\\n\")"
   ]
  },
  {
   "cell_type": "code",
   "execution_count": 18,
   "id": "b34686e7-0bc2-4cb7-a31e-bd9615410b4e",
   "metadata": {},
   "outputs": [
    {
     "name": "stdout",
     "output_type": "stream",
     "text": [
      "10\n",
      "9\n",
      "8\n",
      "7\n",
      "6\n",
      "5\n",
      "4\n",
      "3\n",
      "2\n",
      "1\n"
     ]
    }
   ],
   "source": [
    "# Question :- 7\n",
    "\n",
    "number = 10\n",
    "\n",
    "while number >= 1:\n",
    "    print(number)\n",
    "    number -= 1\n"
   ]
  },
  {
   "cell_type": "code",
   "execution_count": null,
   "id": "90161e2f-7804-4617-9de5-250041d9f7a0",
   "metadata": {},
   "outputs": [],
   "source": []
  }
 ],
 "metadata": {
  "kernelspec": {
   "display_name": "Python 3 (ipykernel)",
   "language": "python",
   "name": "python3"
  },
  "language_info": {
   "codemirror_mode": {
    "name": "ipython",
    "version": 3
   },
   "file_extension": ".py",
   "mimetype": "text/x-python",
   "name": "python",
   "nbconvert_exporter": "python",
   "pygments_lexer": "ipython3",
   "version": "3.10.8"
  }
 },
 "nbformat": 4,
 "nbformat_minor": 5
}
