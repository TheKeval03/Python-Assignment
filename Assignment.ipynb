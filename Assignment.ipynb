{
 "cells": [
  {
   "cell_type": "code",
   "execution_count": 1,
   "id": "f2c0877c-9af1-498b-a6d8-62c9d723873c",
   "metadata": {},
   "outputs": [
    {
     "name": "stdout",
     "output_type": "stream",
     "text": [
      "1\n",
      "2\n",
      "3\n",
      "4\n",
      "5\n",
      "6\n",
      "7\n",
      "8\n",
      "9\n",
      "10\n"
     ]
    }
   ],
   "source": [
    "# Question - 1\n",
    "\n",
    "\n",
    "# For Loop\n",
    "# Use a for loop when you know the loop should execute n times.\n",
    "\n",
    "for i in range(1, 11):\n",
    "    print(i)"
   ]
  },
  {
   "cell_type": "code",
   "execution_count": 2,
   "id": "db3ed2dd-9010-434a-a69a-01324585b164",
   "metadata": {},
   "outputs": [
    {
     "name": "stdout",
     "output_type": "stream",
     "text": [
      "1\n",
      "2\n",
      "3\n",
      "4\n",
      "5\n",
      "6\n",
      "7\n",
      "8\n",
      "9\n",
      "10\n"
     ]
    }
   ],
   "source": [
    "# While Loop\n",
    "# Use a while loop for reading a file into a variable.\n",
    "\n",
    "i = 1\n",
    "while(i<=10):\n",
    "    print(i)\n",
    "    i += 1"
   ]
  },
  {
   "cell_type": "code",
   "execution_count": 11,
   "id": "6ae5744f-1d7f-4a8f-892f-0509c2a88458",
   "metadata": {},
   "outputs": [
    {
     "name": "stdout",
     "output_type": "stream",
     "text": [
      "1\n",
      "2\n",
      "3\n",
      "4\n",
      "5\n",
      "6\n",
      "7\n",
      "8\n",
      "9\n",
      "10\n",
      "sum Is =  55\n",
      "Product Is =  3628800\n"
     ]
    }
   ],
   "source": [
    "# Question - 2\n",
    "\n",
    "\n",
    "# Using For\n",
    "sum = 0\n",
    "product = 1\n",
    "for i in range(1,11):\n",
    "    print(i)\n",
    "    sum += i\n",
    "    product *= i\n",
    "    \n",
    "print(\"sum Is = \",sum)\n",
    "print(\"Product Is = \",product)"
   ]
  },
  {
   "cell_type": "code",
   "execution_count": 4,
   "id": "354dbe4b-a7c1-4fed-b1a0-8ac12e6eb8c5",
   "metadata": {},
   "outputs": [
    {
     "name": "stdout",
     "output_type": "stream",
     "text": [
      "sum Is =  55\n",
      "Product Is =  3628800\n"
     ]
    }
   ],
   "source": [
    "# Using While Loop\n",
    "\n",
    "i = 1\n",
    "sum1 = 0\n",
    "product1 = 1\n",
    "\n",
    "while i<=10 :\n",
    "    sum1 += i\n",
    "    product1*=i\n",
    "    i += 1\n",
    "\n",
    "print(\"sum Is = \",sum1)\n",
    "print(\"Product Is = \",product1)    "
   ]
  },
  {
   "cell_type": "code",
   "execution_count": 6,
   "id": "5a4c7253-fb6e-4343-a0cb-5faa14682465",
   "metadata": {},
   "outputs": [
    {
     "name": "stdout",
     "output_type": "stream",
     "text": [
      "Enter the units consumed in a month:  310\n"
     ]
    },
    {
     "name": "stdout",
     "output_type": "stream",
     "text": [
      "Your electricity bill for the month is Rs. 2250.0\n"
     ]
    }
   ],
   "source": [
    "# question - 3\n",
    "\n",
    "units = int(input(\"Enter the units consumed in a month: \"))\n",
    "total_bill = 0\n",
    "\n",
    "if units <= 100:\n",
    "    total_bill = units * 4.5\n",
    "elif units <= 200:\n",
    "    total_bill = 100 * 4.5 + (units - 100) * 6\n",
    "elif units <= 300:\n",
    "    total_bill = 100 * 4.5 + 100 * 6 + (units - 200) * 10\n",
    "else:\n",
    "    total_bill = 100 * 4.5 + 100 * 6 + 100 * 10 + (units - 300) * 20\n",
    "\n",
    "print(\"Your electricity bill for the month is Rs.\", total_bill)     "
   ]
  },
  {
   "cell_type": "code",
   "execution_count": 7,
   "id": "bbcc542e-b0c8-48cb-9549-640cee9795d5",
   "metadata": {},
   "outputs": [
    {
     "name": "stdout",
     "output_type": "stream",
     "text": [
      "[2, 4, 5, 6, 8, 10, 12, 14, 15, 16, 18, 20, 22, 24, 25, 26, 28, 30, 32, 34, 35, 36, 38, 40, 42, 44, 45, 46, 48, 50, 52, 54, 55, 56, 58, 60, 62, 64, 65, 66, 68, 70, 72, 74, 75, 76, 78, 80, 82, 84, 85, 86, 88, 90, 92, 94, 95, 96, 98, 100]\n"
     ]
    }
   ],
   "source": [
    "# Question - 4\n",
    "\n",
    "# For Loop\n",
    "\n",
    "cube_list = []\n",
    "for i in range(1,101):\n",
    "    cube = i**3\n",
    "    if cube%4 == 0 or cube%5 == 0:\n",
    "        cube_list.append(i)\n",
    "print(cube_list)        "
   ]
  },
  {
   "cell_type": "code",
   "execution_count": 9,
   "id": "c3ecbd82-8030-42b9-bab0-4be53bd15f25",
   "metadata": {},
   "outputs": [
    {
     "name": "stdout",
     "output_type": "stream",
     "text": [
      "[2, 4, 5, 6, 8, 10, 12, 14, 15, 16, 18, 20, 22, 24, 25, 26, 28, 30, 32, 34, 35, 36, 38, 40, 42, 44, 45, 46, 48, 50, 52, 54, 55, 56, 58, 60, 62, 64, 65, 66, 68, 70, 72, 74, 75, 76, 78, 80, 82, 84, 85, 86, 88, 90, 92, 94, 95, 96, 98, 100]\n"
     ]
    }
   ],
   "source": [
    "# While Loop\n",
    "\n",
    "cube_list = []\n",
    "i = 1\n",
    "while i<=100:\n",
    "    cube = i**3\n",
    "    if cube%4 == 0 or cube%5 == 0:\n",
    "        cube_list.append(i)\n",
    "    i+=1\n",
    "print(cube_list)    "
   ]
  },
  {
   "cell_type": "code",
   "execution_count": 18,
   "id": "b545de6c-292d-4a96-a815-ea25da57869c",
   "metadata": {},
   "outputs": [
    {
     "name": "stdout",
     "output_type": "stream",
     "text": [
      "The number of vowels in the string is: 12\n"
     ]
    }
   ],
   "source": [
    "# Question - 5\n",
    "\n",
    "string = \" I want to become a data scientist \"\n",
    "def count_vowels(s):\n",
    "    vowels = \"aeiouAEIOU\"\n",
    "    count = 0\n",
    "    for char in s:\n",
    "        if char in vowels:\n",
    "            count += 1\n",
    "    return count\n",
    "num_vowels = count_vowels(string)\n",
    "\n",
    "print(\"The number of vowels in the string is:\", num_vowels)"
   ]
  },
  {
   "cell_type": "code",
   "execution_count": null,
   "id": "796d53e8-d3b8-4526-b26b-1e89a9a587c8",
   "metadata": {},
   "outputs": [],
   "source": []
  }
 ],
 "metadata": {
  "kernelspec": {
   "display_name": "Python 3 (ipykernel)",
   "language": "python",
   "name": "python3"
  },
  "language_info": {
   "codemirror_mode": {
    "name": "ipython",
    "version": 3
   },
   "file_extension": ".py",
   "mimetype": "text/x-python",
   "name": "python",
   "nbconvert_exporter": "python",
   "pygments_lexer": "ipython3",
   "version": "3.10.8"
  }
 },
 "nbformat": 4,
 "nbformat_minor": 5
}
