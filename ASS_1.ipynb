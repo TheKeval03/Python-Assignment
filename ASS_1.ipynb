{
 "cells": [
  {
   "cell_type": "markdown",
   "id": "8769ec1c-c2dd-4841-8903-b3006db0431c",
   "metadata": {},
   "source": [
    "# Question - 1"
   ]
  },
  {
   "cell_type": "markdown",
   "id": "c67bdc03-becb-42d7-9f1b-91f61e5d8807",
   "metadata": {
    "jupyter": {
     "source_hidden": true
    },
    "tags": []
   },
   "source": [
    "--> Simple Linear Regression:\n",
    "    \n",
    "\n",
    "Simple linear regression involves predicting a dependent variable (Y) based on a single independent variable (X). \n",
    "The relationship between the two variables is assumed to be linear, meaning it can be represented by a straight line.\n",
    "\n",
    "Simpler dealing with one relationship.\n",
    "\n",
    "Application of linear Regression Basic research, simple predictions, understanding a singular relationship.\n",
    "\n",
    "\n",
    "\n",
    "--> Multiple Linear Regression:\n",
    "    \n",
    "\n",
    "Multiple linear regression extends the concept of simple linear regression by considering more than one independent variable.\n",
    "\n",
    "More complex due to multiple relationships.\n",
    "\n",
    "Application of Multiple Regression Complex research, multifactorial predictions, studying interrelated systems.\n"
   ]
  },
  {
   "cell_type": "markdown",
   "id": "fe959fa0-1c70-4dc8-83be-d76b10cce0a7",
   "metadata": {},
   "source": [
    "# Question - 2\n",
    "\n",
    "\n"
   ]
  },
  {
   "cell_type": "markdown",
   "id": "7b7cf2b7-833a-418c-9305-da12d0a440df",
   "metadata": {},
   "source": [
    "Linear regression relies on several assumptions to be valid. It's essential to check these assumptions to ensure that the model provides reliable results. \n",
    "Here are the key assumptions of linear regression:\n",
    "    \n",
    "1. Linearity: The relationship between the independent variables and the dependent variable should be linear. \n",
    "              This means that changes in the independent variables should result in a constant change in the dependent variable.\n",
    "    \n",
    "2.Independence of residuals: The residuals (the differences between the observed and predicted values) should be independent of each other. \n",
    "                             There should be no pattern in the residuals over time or across observations.    \n",
    "    \n",
    "3.Homoscedasticity: The variance of the residuals should be constant across all levels of the independent variables. \n",
    "                    In other words, the spread of residuals should be uniform.    \n",
    "    \n",
    "4.Normality of residuals: The residuals should follow a normal distribution. \n",
    "                          This assumption is crucial for hypothesis testing and confidence interval estimation.   \n",
    "\n",
    "\n",
    "--> To check these assumptions, several diagnostic tools and tests can be employed:\n",
    "    \n",
    "1.Residual plots: Plotting the residuals against the predicted values or the independent variables can reveal patterns. \n",
    "                  Ideally, there should be no discernible pattern, indicating independence and homoscedasticity.    \n",
    "    \n",
    "2.Heteroscedasticity tests: Formal tests like the Breusch-Pagan or White tests can be used to check for heteroscedasticity.    "
   ]
  },
  {
   "cell_type": "markdown",
   "id": "d180d312-ef7b-4fcd-a2f0-4bfecf120f3d",
   "metadata": {},
   "source": [
    "# Question - 3"
   ]
  },
  {
   "cell_type": "markdown",
   "id": "56fbb9d6-50f7-4de1-afba-19a52198a806",
   "metadata": {},
   "source": [
    "In a linear regression model, the slope and intercept have specific interpretations:\n",
    "\n",
    "Intercept :\n",
    "\n",
    "Interpretation: The intercept represents the predicted value of the dependent variable when all independent variables are zero.\n",
    "\n",
    "Example Interpretation: In the context of predicting exam scores based on hours of study, \n",
    "if the intercept is 50, it means that a student who studies for zero hours (hypothetically) is expected to score 50 on the exam.\n",
    "\n",
    "Slope:\n",
    "\n",
    "Interpretation: The slope represents the change in the dependent variable for a one-unit change in the corresponding independent variable, \n",
    "assuming all other variables are held constant.\n",
    "\n",
    "Example Interpretation: In the exam score and hours of study example, \n",
    "if the slope for hours of study is 5, it means that, on average, each additional hour of study is associated with an increase of 5 points in the exam score.\n",
    "\n",
    "--> Real-world Example: Predicting House Prices\n",
    "\n",
    "Intercept: If the intercept is $50,000, it implies that a house with zero square feet (hypothetically) would have a predicted price of $50,000. \n",
    "           However, this interpretation may not make practical sense in the context of housing.\n",
    "\n",
    "Slope : If the slope for the size of the house is $200 per square foot, it means that, on average, each additional square foot of house size is associated with an increase of $200         in the predicted house price, assuming other factors remain constant."
   ]
  },
  {
   "cell_type": "markdown",
   "id": "221b7ec2-1952-498b-9326-e8746713bcc8",
   "metadata": {},
   "source": [
    "# Question - 4\n"
   ]
  },
  {
   "cell_type": "markdown",
   "id": "ec9378d7-08da-4bd0-ab14-aa89b3a7953e",
   "metadata": {},
   "source": [
    "Gradient Descent:\n",
    "\n",
    "Gradient descent is an optimization algorithm used to minimize a function by iteratively moving towards the minimum of the function. \n",
    "In the context of machine learning, this function is often a cost function that measures the difference between the predicted values and the actual values. \n",
    "The goal is to find the parameters (weights) that minimize this cost function.\n",
    "\n",
    "The algorithm works by taking steps proportional to the negative of the gradient of the function at the current point. The gradient indicates the direction of the steepest ascent, and moving in the opposite direction helps to descend towards the minimum.\n",
    "\n",
    "--> Steps of Gradient Descent:\n",
    "\n",
    "Initialize Parameters: Start with initial values for the parameters (weights).\n",
    "\n",
    "Compute the Gradient: Calculate the gradient of the cost function with respect to each parameter. \n",
    "                      This involves finding the partial derivatives of the cost function.\n",
    "                      \n",
    "Update Parameters: Adjust the parameters by moving in the opposite direction of the gradient. \n",
    "                   The size of the step is controlled by the learning rate, which is a hyperparameter.\n",
    "\n",
    "Repeat: Iterate steps 2 and 3 until convergence or a predetermined number of iterations.\n",
    "\n",
    "\n",
    "                      \n",
    "\n"
   ]
  },
  {
   "cell_type": "markdown",
   "id": "6842c3fb-2aa4-4737-be97-ad23dc4056e2",
   "metadata": {},
   "source": [
    "# Question - 5"
   ]
  },
  {
   "cell_type": "markdown",
   "id": "06455eb2-c463-4374-9e54-a5d863e9e207",
   "metadata": {},
   "source": [
    "--> Simple Linear Regression:\n",
    "    \n",
    "\n",
    "Simple linear regression involves predicting a dependent variable (Y) based on a single independent variable (X). \n",
    "The relationship between the two variables is assumed to be linear, meaning it can be represented by a straight line.\n",
    "\n",
    "Simpler dealing with one relationship.\n",
    "\n",
    "Application of linear Regression Basic research, simple predictions, understanding a singular relationship.\n",
    "\n",
    "\n",
    "\n",
    "--> Multiple Linear Regression:\n",
    "    \n",
    "\n",
    "Multiple linear regression extends the concept of simple linear regression by considering more than one independent variable.\n",
    "\n",
    "More complex due to multiple relationships.\n",
    "\n",
    "Application of Multiple Regression Complex research, multifactorial predictions, studying interrelated systems.\n"
   ]
  },
  {
   "cell_type": "markdown",
   "id": "d6c11b03-d524-4f5f-af75-d91e2089d74d",
   "metadata": {},
   "source": [
    "# Question - 6"
   ]
  },
  {
   "cell_type": "markdown",
   "id": "ac451cc6-0c3b-416c-8009-613c2fd9bf2a",
   "metadata": {},
   "source": [
    "Multicollinearity in Multiple Linear Regression:\n",
    "\n",
    "Multicollinearity is a phenomenon in multiple linear regression where two or more independent variables in the model are highly correlated with each other. \n",
    "This high correlation can cause issues in the regression analysis and affect the stability and reliability of the coefficient estimates.\n",
    "\n",
    "Issues Caused by Multicollinearity:\n",
    "\n",
    "1. Unstable Coefficient Estimates:The coefficients become highly sensitive to small changes in the data.\n",
    "\n",
    "2. Reduced Precision: The standard errors of the coefficient estimates tend to be large, leading to wider confidence intervals.\n",
    "\n",
    "3. Inflated Variance:It becomes challenging to isolate the individual effect of each independent variable on the dependent variable.\n",
    "\n",
    "Detection of Multicollinearity:\n",
    "\n",
    "1. Correlation Matrix: Examine the correlation matrix between independent variables. High correlation coefficients (close to 1 or -1) indicate potential multicollinearity.\n",
    "\n",
    "2. Variance Inflation Factor (VIF): Calculate the VIF for each independent variable. \n",
    "VIF measures how much the variance of an estimated regression coefficient increases if the variables are correlated. A high VIF (typically above 10) indicates multicollinearity.\n",
    "\n",
    "Addressing Multicollinearity:\n",
    "\n",
    "1.Remove One of the Correlated Variables: If two variables are highly correlated, consider removing one of them from the model. \n",
    "Choose the variable that makes more sense in the context of the problem or has less importance.\n",
    "\n",
    "2. Combine Correlated Variables: Create a new variable that combines the information from the correlated variables. \n",
    "This can be a meaningful combination or an average of the correlated variables.\n",
    "\n",
    "3. Regularization Techniques: Ridge regression and Lasso regression are regularization techniques that can be used to handle multicollinearity by penalizing large coefficients.\n",
    "\n",
    "4. Increase Sample Size:A larger sample size can sometimes help stabilize coefficient estimates and reduce the impact of multicollinearity.\n",
    "\n",
    "5. Principal Component Analysis (PCA): PCA can be used to transform the original variables into a set of uncorrelated variables, known as principal components. \n",
    "This can help in dealing with multicollinearity.\n",
    "\n",
    "It's essential to carefully assess the specific context of the problem and the goals of the analysis when deciding how to address multicollinearity. \n",
    "Additionally, addressing multicollinearity should be done cautiously, as removing variables without a solid theoretical or practical justification can lead to model oversimplification."
   ]
  },
  {
   "cell_type": "markdown",
   "id": "3e1fe310-08c0-403a-b990-f1b952d5fa3e",
   "metadata": {},
   "source": [
    "# Question - 7"
   ]
  },
  {
   "cell_type": "markdown",
   "id": "9b1e8a05-bfc0-48ea-aee3-3b83a7b8fc67",
   "metadata": {},
   "source": [
    "**Polynomial Regression Model:**\n",
    "\n",
    "Polynomial regression is a type of regression analysis in which the relationship between the independent variable (\\(X\\)) and the dependent variable (\\(Y\\)) is modeled as an \\(n\\)-th degree polynomial. In contrast to simple linear regression, where the relationship is assumed to be linear, polynomial regression allows for more flexibility in capturing non-linear patterns in the data.\n",
    "\n",
    "\n",
    "Differences from Linear Regression:\n",
    "\n",
    "1. **Linearity vs. Non-linearity:**\n",
    "   -Linear Regression:** Assumes a linear relationship between the independent and dependent variables.\n",
    "   -Polynomial Regression:** Allows for a non-linear relationship by introducing higher-order terms.\n",
    "\n",
    "2. **Flexibility:**\n",
    "   - **Linear Regression:** Suitable for capturing linear trends in the data.\n",
    "   - **Polynomial Regression:** More flexible in capturing non-linear patterns, but may be more prone to overfitting if the degree of the polynomial is too high.\n",
    "\n",
    "3. **Model Complexity:**\n",
    "   - **Linear Regression:** Simpler model with fewer parameters.\n",
    "   - **Polynomial Regression:** Higher-degree polynomials introduce more parameters, leading to increased model complexity.\n",
    "\n",
    "**Use Cases:**\n",
    "- Polynomial regression is used when the relationship between variables appears to be non-linear.\n",
    "- It is applied in situations where a straight line (as in linear regression) is not sufficient to capture the underlying patterns in the data.\n",
    "\n",
    "**Considerations:**\n",
    "- The choice of the degree of the polynomial is critical and should be based on the characteristics of the data. Too high a degree may lead to overfitting.\n",
    "- Polynomial regression assumes that the relationship between variables follows a polynomial form, which might not always be the case in real-world scenarios. It should be applied judiciously based on data exploration and understanding."
   ]
  },
  {
   "cell_type": "markdown",
   "id": "65fb5bee-87af-4b86-9ed1-ac67177e4b8e",
   "metadata": {},
   "source": [
    "# Question - 8"
   ]
  },
  {
   "cell_type": "markdown",
   "id": "8d214c4b-4c47-42fb-9574-d667209712c1",
   "metadata": {},
   "source": [
    "**Advantages of Polynomial Regression:**\n",
    "\n",
    "1. **Flexibility:** Polynomial regression can capture non-linear relationships between the independent and dependent variables, providing more flexibility in modeling complex patterns in the data.\n",
    "\n",
    "2. **Higher Accuracy:** In situations where the true relationship is non-linear, polynomial regression can lead to more accurate predictions compared to linear regression.\n",
    "\n",
    "3. **Suitable for Curved Relationships:** When the data exhibits a curved trend, polynomial regression is more appropriate as it allows the model to follow the curvature.\n",
    "\n",
    "4. **Better Representation:** Polynomial regression can provide a better representation of certain physical phenomena or real-world processes that exhibit non-linear behavior.\n",
    "\n",
    "**Disadvantages of Polynomial Regression:**\n",
    "\n",
    "1. **Overfitting:** Higher-degree polynomials can lead to overfitting, capturing noise in the data rather than the underlying pattern. This can result in poor generalization to new data.\n",
    "\n",
    "2. **Increased Complexity:** As the degree of the polynomial increases, the model becomes more complex with a larger number of parameters. This complexity can make the model harder to interpret.\n",
    "\n",
    "3. **Sensitivity to Outliers:** Polynomial regression can be sensitive to outliers, especially when using higher-degree polynomials, leading to skewed predictions.\n",
    "\n",
    "4. **Risk of Extrapolation Issues:** Extrapolating beyond the range of observed data can be problematic, and predictions may become unreliable.\n",
    "\n",
    "**When to Use Polynomial Regression:**\n",
    "\n",
    "1. **Non-Linear Relationships:** When there is clear evidence that the relationship between the independent and dependent variables is non-linear.\n",
    "\n",
    "2. **Curved Patterns:** In situations where the data exhibits a curve or a bend that cannot be adequately captured by a straight line.\n",
    "\n",
    "3. **Physical Processes:** In applications where the underlying physical process suggests a non-linear relationship.\n",
    "\n",
    "4. **Understanding the Trade-off:** When the potential benefits of capturing non-linear patterns outweigh the risks of overfitting and increased model complexity. This requires careful consideration of the specific characteristics of the data.\n",
    "\n",
    "**Considerations:**\n",
    "- The choice between linear and polynomial regression depends on the nature of the data and the problem at hand.\n",
    "- Cross-validation techniques can be used to evaluate the performance of the model and find an appropriate degree for the polynomial to balance bias and variance.\n",
    "- Regularization techniques, such as Ridge or Lasso regression, can be applied to mitigate overfitting in polynomial regression."
   ]
  },
  {
   "cell_type": "code",
   "execution_count": null,
   "id": "dd04f08d-fd51-47e2-b690-6ca778e2d9ef",
   "metadata": {},
   "outputs": [],
   "source": []
  }
 ],
 "metadata": {
  "kernelspec": {
   "display_name": "Python 3 (ipykernel)",
   "language": "python",
   "name": "python3"
  },
  "language_info": {
   "codemirror_mode": {
    "name": "ipython",
    "version": 3
   },
   "file_extension": ".py",
   "mimetype": "text/x-python",
   "name": "python",
   "nbconvert_exporter": "python",
   "pygments_lexer": "ipython3",
   "version": "3.10.8"
  }
 },
 "nbformat": 4,
 "nbformat_minor": 5
}
