{
 "cells": [
  {
   "cell_type": "code",
   "execution_count": 1,
   "id": "1287df52-aa82-456a-8b56-e39d620bc706",
   "metadata": {},
   "outputs": [],
   "source": [
    "# Python Task :- 1\n"
   ]
  },
  {
   "cell_type": "code",
   "execution_count": 2,
   "id": "aa412821-a960-4acb-8e73-199174d03ba2",
   "metadata": {},
   "outputs": [
    {
     "name": "stdout",
     "output_type": "stream",
     "text": [
      "Product of numbers in the flattened list: 0\n"
     ]
    }
   ],
   "source": [
    "# Question :- 1\n",
    "\n",
    "def flatten_and_product(lst):\n",
    "    flat_list = []\n",
    "    \n",
    "    def flatten_recursive(item):\n",
    "        if isinstance(item, (int, float)):\n",
    "            flat_list.append(item)\n",
    "        elif isinstance(item, list):\n",
    "            for sub_item in item:\n",
    "                flatten_recursive(sub_item)\n",
    "        elif isinstance(item, dict):\n",
    "            for value in item.values():\n",
    "                flatten_recursive(value)\n",
    "    \n",
    "    flatten_recursive(lst)\n",
    "    \n",
    "    product = 1\n",
    "    for num in flat_list:\n",
    "        product *= num\n",
    "    \n",
    "    return product\n",
    "\n",
    "list1 = [1, 2, 3, 4, [44, 55, 66, True], False, (34, 56, 78, 89, 34), {1, 2, 3, 3, 2, 1},\n",
    "         {1: 34, \"key2\": [55, 67, 78, 89], 4: (45, 22, 61, 34)}, [56, 'data science'], 'Machine Learning']\n",
    "\n",
    "result = flatten_and_product(list1)\n",
    "print(\"Product of numbers in the flattened list:\", result)\n"
   ]
  },
  {
   "cell_type": "code",
   "execution_count": 3,
   "id": "af51dd9f-62fa-41e3-b99b-f7de59b6523d",
   "metadata": {},
   "outputs": [
    {
     "name": "stdout",
     "output_type": "stream",
     "text": [
      "Encrypted sentence: r$dzmg$gl$yvxlnv$z$wzgz$hxrvmgrhg.\n"
     ]
    }
   ],
   "source": [
    "# Question :- 2\n",
    "\n",
    "def encrypt_message(message):\n",
    "    encrypted = []\n",
    "    \n",
    "    for char in message:\n",
    "        if char.isalpha():\n",
    "            encrypted_char = chr(122 - (ord(char) - 97))  # Encrypt letters\n",
    "            encrypted.append(encrypted_char)\n",
    "        elif char == \" \":\n",
    "            encrypted.append(\"$\")  # Replace space with $\n",
    "        else:\n",
    "            encrypted.append(char)  # Keep punctuation unchanged\n",
    "    \n",
    "    return \"\".join(encrypted)\n",
    "\n",
    "input_sentence = \"I want to become a Data Scientist.\"\n",
    "lowercase_input = input_sentence.lower()\n",
    "encrypted_sentence = encrypt_message(lowercase_input)\n",
    "\n",
    "print(\"Encrypted sentence:\", encrypted_sentence)\n"
   ]
  },
  {
   "cell_type": "code",
   "execution_count": null,
   "id": "cc94ea84-2967-4f0c-95f2-7ad0374a3588",
   "metadata": {},
   "outputs": [],
   "source": []
  }
 ],
 "metadata": {
  "kernelspec": {
   "display_name": "Python 3 (ipykernel)",
   "language": "python",
   "name": "python3"
  },
  "language_info": {
   "codemirror_mode": {
    "name": "ipython",
    "version": 3
   },
   "file_extension": ".py",
   "mimetype": "text/x-python",
   "name": "python",
   "nbconvert_exporter": "python",
   "pygments_lexer": "ipython3",
   "version": "3.10.8"
  }
 },
 "nbformat": 4,
 "nbformat_minor": 5
}
