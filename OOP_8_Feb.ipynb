{
 "cells": [
  {
   "cell_type": "code",
   "execution_count": 1,
   "id": "a8097b33-196c-4964-92a4-85821e5aee22",
   "metadata": {},
   "outputs": [],
   "source": [
    "# OOP 8th Feb Assignment"
   ]
  },
  {
   "cell_type": "code",
   "execution_count": 4,
   "id": "e8fac39e-42c5-49b4-b0d4-cbf9f95fc806",
   "metadata": {},
   "outputs": [
    {
     "name": "stdout",
     "output_type": "stream",
     "text": [
      "Area of shape: 78.5\n",
      "Area of shape: 24\n"
     ]
    }
   ],
   "source": [
    "# Question :- 1\n",
    "\n",
    "# Abstraction is one of the fundamental principles in object-oriented programming (OOP). \\\n",
    "# It involves representing the complex real-world entities in a simplified manner by emphasizing only the essential characteristics and behavior while hiding the unnecessary details.\n",
    "\n",
    "\"\"\" In OOP, abstraction allows you to create abstract classes and interfaces that define a blueprint for objects. \n",
    "It's about defining the structure, properties, and methods an object should have without specifying the exact implementation. \n",
    "Abstraction helps in managing the complexity of large software systems and allows you to focus on high-level design rather than getting bogged down in implementation details. \"\"\"\n",
    "\n",
    "from abc import ABC, abstractmethod\n",
    "\n",
    "class Shape(ABC):\n",
    "    @abstractmethod\n",
    "    def calculate_area(self):\n",
    "        pass\n",
    "\n",
    "class Circle(Shape):\n",
    "    def __init__(self, radius):\n",
    "        self.radius = radius\n",
    "    \n",
    "    def calculate_area(self):\n",
    "        return 3.14 * self.radius * self.radius\n",
    "\n",
    "class Rectangle(Shape):\n",
    "    def __init__(self, length, width):\n",
    "        self.length = length\n",
    "        self.width = width\n",
    "    \n",
    "    def calculate_area(self):\n",
    "        return self.length * self.width\n",
    "\n",
    "circle = Circle(5)\n",
    "rectangle = Rectangle(4, 6)\n",
    "\n",
    "shapes = [circle, rectangle]\n",
    "\n",
    "for shape in shapes:\n",
    "    print(f\"Area of shape: {shape.calculate_area()}\")\n"
   ]
  },
  {
   "cell_type": "code",
   "execution_count": null,
   "id": "c1ddcd31-16c1-4021-a9ca-6983827fa224",
   "metadata": {},
   "outputs": [],
   "source": [
    "# Question :- 2\n",
    "\n",
    "# Abstraction:\n",
    "    \n",
    "\"\"\"Abstraction is the process of simplifying complex reality by modeling classes based on the essential properties and behaviors they possess. \n",
    "It involves hiding the unnecessary implementation details while exposing only the relevant features to the users. \n",
    "Abstraction defines a blueprint for objects without specifying the exact implementation. It is about creating a high-level view of an object and its interactions.\"\"\"\n",
    "\n",
    "# Encapsulation:\n",
    "    \n",
    "\"\"\"Encapsulation involves bundling the data (attributes) and the methods (functions) that operate on that data into a single unit, which is the class. \n",
    "It restricts the direct access to some of the object's components and allows controlled access through well-defined interfaces. \n",
    "Encapsulation prevents unauthorized access to an object's internal state and ensures that its data is accessed and modified in a controlled manner.\"\"\""
   ]
  },
  {
   "cell_type": "code",
   "execution_count": null,
   "id": "8d44e1a9-a528-40f7-afff-5adde55dc110",
   "metadata": {},
   "outputs": [],
   "source": [
    "# Question :- 3\n",
    "\n",
    "\n",
    "\"\"\"The abc module in Python stands for \"Abstract Base Classes.\" It is a module that provides mechanisms for defining and working with abstract base classes. \n",
    "Abstract base classes are classes that are meant to be subclassed by other classes. They define a common interface and set of methods that subclasses are expected to implement.\n",
    "The abc module is used for creating abstract base classes and enforcing certain rules and contracts among the derived classes. It helps in achieving a higher level of abstraction and design by defining common methods that subclasses should provide while also preventing instantiation of the base class itself.\"\"\"\n",
    "\n",
    "# ABC (Abstract Base Class): A metaclass that can be used to create abstract base classes. You can subclass this metaclass to define your own abstract base classes.\n",
    "# The abc module is used to enforce design patterns, ensure a consistent interface across derived classes, and promote a clear hierarchy and structure in your code. \n",
    "# It helps in making your code more readable, maintainable, and modular by guiding developers in creating subclasses that adhere to a predefined contract."
   ]
  },
  {
   "cell_type": "code",
   "execution_count": null,
   "id": "bd8c639d-e410-44e4-b645-2b1b5e0b290b",
   "metadata": {},
   "outputs": [],
   "source": [
    "# Question :- 4\n",
    "\n",
    "# Define a Class: Create a class that represents the abstract concept you want to model. \n",
    "# The class should define the properties (attributes) and behaviors (methods) that are relevant to the concept.\n",
    "\n",
    "# Use Access Modifiers: \n",
    "    \n",
    "\"\"\"In Python, there are no strict access modifiers like in some other programming languages (public, private, protected). However, you can use naming conventions to indicate the intended visibility. Prefix attributes or methods that should be considered private with an underscore \n",
    "(e.g., _private_attribute). This doesn't enforce access control, but it's a common practice to indicate that those elements are for internal use.\"\"\"\n",
    "\n",
    "# Use Methods to Access Attributes: \n",
    "\n",
    "# Instead of directly accessing or modifying attributes from outside the class, use methods (getters and setters) to encapsulate the attribute interactions. This allows you to control how the attributes are accessed and modified."
   ]
  },
  {
   "cell_type": "code",
   "execution_count": null,
   "id": "9ad3f65d-fad1-4a24-83e8-f5702300fe15",
   "metadata": {},
   "outputs": [],
   "source": [
    "# Question :- 5\n",
    "\n",
    "\"\"\"No, you cannot create an instance of an abstract class in Python. Abstract classes are meant to serve as blueprints for other classes. \n",
    "They define a common interface and certain methods that must be implemented by the subclasses. Abstract classes are not meant to be instantiated directly because they often lack complete implementations for some of their methods.\n",
    "\n",
    "Python provides the abc (Abstract Base Classes) module to create abstract classes. Abstract classes are created using the ABC metaclass, and you can define abstract methods using the @abstractmethod decorator. These abstract methods are meant to be overridden by subclasses.\n",
    "To make use of an abstract class, you need to create a concrete subclass that inherits from the abstract class and implements all the abstract methods. Only instances of the concrete subclass can be created: \"\"\""
   ]
  }
 ],
 "metadata": {
  "kernelspec": {
   "display_name": "Python 3 (ipykernel)",
   "language": "python",
   "name": "python3"
  },
  "language_info": {
   "codemirror_mode": {
    "name": "ipython",
    "version": 3
   },
   "file_extension": ".py",
   "mimetype": "text/x-python",
   "name": "python",
   "nbconvert_exporter": "python",
   "pygments_lexer": "ipython3",
   "version": "3.10.8"
  }
 },
 "nbformat": 4,
 "nbformat_minor": 5
}
